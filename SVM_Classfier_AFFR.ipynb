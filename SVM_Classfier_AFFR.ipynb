{
 "cells": [
  {
   "cell_type": "code",
   "execution_count": 62,
   "id": "5ff43771",
   "metadata": {},
   "outputs": [],
   "source": [
    "import re\n",
    "import time\n",
    "import numpy as np\n",
    "import pandas as pd\n",
    "from sklearn import svm\n",
    "from sklearn.svm import SVC\n",
    "import matplotlib.pyplot as plt  \n",
    "from nltk.corpus import stopwords\n",
    "from sklearn.preprocessing import StandardScaler\n",
    "from sklearn.model_selection import GridSearchCV\n",
    "from sklearn.model_selection import train_test_split\n",
    "from sklearn.feature_extraction.text import CountVectorizer\n",
    "from sklearn.metrics import accuracy_score, confusion_matrix,classification_report"
   ]
  },
  {
   "cell_type": "markdown",
   "id": "f0ed9084",
   "metadata": {},
   "source": [
    "### Read the File"
   ]
  },
  {
   "cell_type": "code",
   "execution_count": 63,
   "id": "72a87850",
   "metadata": {},
   "outputs": [
    {
     "data": {
      "text/html": [
       "<div>\n",
       "<style scoped>\n",
       "    .dataframe tbody tr th:only-of-type {\n",
       "        vertical-align: middle;\n",
       "    }\n",
       "\n",
       "    .dataframe tbody tr th {\n",
       "        vertical-align: top;\n",
       "    }\n",
       "\n",
       "    .dataframe thead th {\n",
       "        text-align: right;\n",
       "    }\n",
       "</style>\n",
       "<table border=\"1\" class=\"dataframe\">\n",
       "  <thead>\n",
       "    <tr style=\"text-align: right;\">\n",
       "      <th></th>\n",
       "      <th>Id</th>\n",
       "      <th>ProductId</th>\n",
       "      <th>UserId</th>\n",
       "      <th>ProfileName</th>\n",
       "      <th>HelpfulnessNumerator</th>\n",
       "      <th>HelpfulnessDenominator</th>\n",
       "      <th>Score</th>\n",
       "      <th>Time</th>\n",
       "      <th>Summary</th>\n",
       "      <th>Text</th>\n",
       "    </tr>\n",
       "  </thead>\n",
       "  <tbody>\n",
       "    <tr>\n",
       "      <th>0</th>\n",
       "      <td>1</td>\n",
       "      <td>B001E4KFG0</td>\n",
       "      <td>A3SGXH7AUHU8GW</td>\n",
       "      <td>delmartian</td>\n",
       "      <td>1</td>\n",
       "      <td>1</td>\n",
       "      <td>5</td>\n",
       "      <td>1303862400</td>\n",
       "      <td>Good Quality Dog Food</td>\n",
       "      <td>I have bought several of the Vitality canned d...</td>\n",
       "    </tr>\n",
       "    <tr>\n",
       "      <th>1</th>\n",
       "      <td>2</td>\n",
       "      <td>B00813GRG4</td>\n",
       "      <td>A1D87F6ZCVE5NK</td>\n",
       "      <td>dll pa</td>\n",
       "      <td>0</td>\n",
       "      <td>0</td>\n",
       "      <td>1</td>\n",
       "      <td>1346976000</td>\n",
       "      <td>Not as Advertised</td>\n",
       "      <td>Product arrived labeled as Jumbo Salted Peanut...</td>\n",
       "    </tr>\n",
       "    <tr>\n",
       "      <th>2</th>\n",
       "      <td>3</td>\n",
       "      <td>B000LQOCH0</td>\n",
       "      <td>ABXLMWJIXXAIN</td>\n",
       "      <td>Natalia Corres \"Natalia Corres\"</td>\n",
       "      <td>1</td>\n",
       "      <td>1</td>\n",
       "      <td>4</td>\n",
       "      <td>1219017600</td>\n",
       "      <td>\"Delight\" says it all</td>\n",
       "      <td>This is a confection that has been around a fe...</td>\n",
       "    </tr>\n",
       "    <tr>\n",
       "      <th>3</th>\n",
       "      <td>4</td>\n",
       "      <td>B000UA0QIQ</td>\n",
       "      <td>A395BORC6FGVXV</td>\n",
       "      <td>Karl</td>\n",
       "      <td>3</td>\n",
       "      <td>3</td>\n",
       "      <td>2</td>\n",
       "      <td>1307923200</td>\n",
       "      <td>Cough Medicine</td>\n",
       "      <td>If you are looking for the secret ingredient i...</td>\n",
       "    </tr>\n",
       "    <tr>\n",
       "      <th>4</th>\n",
       "      <td>5</td>\n",
       "      <td>B006K2ZZ7K</td>\n",
       "      <td>A1UQRSCLF8GW1T</td>\n",
       "      <td>Michael D. Bigham \"M. Wassir\"</td>\n",
       "      <td>0</td>\n",
       "      <td>0</td>\n",
       "      <td>5</td>\n",
       "      <td>1350777600</td>\n",
       "      <td>Great taffy</td>\n",
       "      <td>Great taffy at a great price.  There was a wid...</td>\n",
       "    </tr>\n",
       "  </tbody>\n",
       "</table>\n",
       "</div>"
      ],
      "text/plain": [
       "   Id   ProductId          UserId                      ProfileName  \\\n",
       "0   1  B001E4KFG0  A3SGXH7AUHU8GW                       delmartian   \n",
       "1   2  B00813GRG4  A1D87F6ZCVE5NK                           dll pa   \n",
       "2   3  B000LQOCH0   ABXLMWJIXXAIN  Natalia Corres \"Natalia Corres\"   \n",
       "3   4  B000UA0QIQ  A395BORC6FGVXV                             Karl   \n",
       "4   5  B006K2ZZ7K  A1UQRSCLF8GW1T    Michael D. Bigham \"M. Wassir\"   \n",
       "\n",
       "   HelpfulnessNumerator  HelpfulnessDenominator  Score        Time  \\\n",
       "0                     1                       1      5  1303862400   \n",
       "1                     0                       0      1  1346976000   \n",
       "2                     1                       1      4  1219017600   \n",
       "3                     3                       3      2  1307923200   \n",
       "4                     0                       0      5  1350777600   \n",
       "\n",
       "                 Summary                                               Text  \n",
       "0  Good Quality Dog Food  I have bought several of the Vitality canned d...  \n",
       "1      Not as Advertised  Product arrived labeled as Jumbo Salted Peanut...  \n",
       "2  \"Delight\" says it all  This is a confection that has been around a fe...  \n",
       "3         Cough Medicine  If you are looking for the secret ingredient i...  \n",
       "4            Great taffy  Great taffy at a great price.  There was a wid...  "
      ]
     },
     "execution_count": 63,
     "metadata": {},
     "output_type": "execute_result"
    }
   ],
   "source": [
    "df = pd.read_csv(\"Reviews.csv\")\n",
    "df.head()"
   ]
  },
  {
   "cell_type": "code",
   "execution_count": 64,
   "id": "f222cbd5",
   "metadata": {},
   "outputs": [
    {
     "data": {
      "text/plain": [
       "(568454, 10)"
      ]
     },
     "execution_count": 64,
     "metadata": {},
     "output_type": "execute_result"
    }
   ],
   "source": [
    "df.shape"
   ]
  },
  {
   "cell_type": "code",
   "execution_count": 65,
   "id": "6494deb9",
   "metadata": {},
   "outputs": [
    {
     "data": {
      "text/plain": [
       "5    363122\n",
       "4     80655\n",
       "1     52268\n",
       "3     42640\n",
       "2     29769\n",
       "Name: Score, dtype: int64"
      ]
     },
     "execution_count": 65,
     "metadata": {},
     "output_type": "execute_result"
    }
   ],
   "source": [
    "df[\"Score\"].value_counts()"
   ]
  },
  {
   "cell_type": "code",
   "execution_count": 66,
   "id": "30660de1",
   "metadata": {
    "scrolled": true
   },
   "outputs": [
    {
     "data": {
      "text/plain": [
       "C. F. Hill \"CFH\"                               451\n",
       "O. Brown \"Ms. O. Khannah-Brown\"                421\n",
       "Gary Peterson                                  389\n",
       "Rebecca of Amazon \"The Rebecca Review\"         365\n",
       "Chris                                          363\n",
       "                                              ... \n",
       "Steven Wolff                                     1\n",
       "joycomeau                                        1\n",
       "Lizz                                             1\n",
       "Phyllis A. De Smet-Howard \"tweedsmerewillo\"      1\n",
       "srfell17                                         1\n",
       "Name: ProfileName, Length: 218416, dtype: int64"
      ]
     },
     "execution_count": 66,
     "metadata": {},
     "output_type": "execute_result"
    }
   ],
   "source": [
    "df[\"ProfileName\"].value_counts()"
   ]
  },
  {
   "cell_type": "markdown",
   "id": "b681e27e",
   "metadata": {},
   "source": [
    "### Binary classifying the \"Score\" column"
   ]
  },
  {
   "cell_type": "code",
   "execution_count": 67,
   "id": "e8794951",
   "metadata": {},
   "outputs": [],
   "source": [
    "def partition(x):\n",
    "    if x < 3:\n",
    "        return 0\n",
    "    else:\n",
    "        return 1\n",
    "df['Score'] = df['Score'].map(partition)           "
   ]
  },
  {
   "cell_type": "code",
   "execution_count": 68,
   "id": "b27dfe2d",
   "metadata": {
    "scrolled": true
   },
   "outputs": [
    {
     "data": {
      "text/plain": [
       "1    486417\n",
       "0     82037\n",
       "Name: Score, dtype: int64"
      ]
     },
     "execution_count": 68,
     "metadata": {},
     "output_type": "execute_result"
    }
   ],
   "source": [
    "df[\"Score\"].value_counts()"
   ]
  },
  {
   "cell_type": "code",
   "execution_count": 69,
   "id": "7fb86a69",
   "metadata": {},
   "outputs": [
    {
     "data": {
      "text/html": [
       "<div>\n",
       "<style scoped>\n",
       "    .dataframe tbody tr th:only-of-type {\n",
       "        vertical-align: middle;\n",
       "    }\n",
       "\n",
       "    .dataframe tbody tr th {\n",
       "        vertical-align: top;\n",
       "    }\n",
       "\n",
       "    .dataframe thead th {\n",
       "        text-align: right;\n",
       "    }\n",
       "</style>\n",
       "<table border=\"1\" class=\"dataframe\">\n",
       "  <thead>\n",
       "    <tr style=\"text-align: right;\">\n",
       "      <th></th>\n",
       "      <th>Id</th>\n",
       "      <th>ProductId</th>\n",
       "      <th>UserId</th>\n",
       "      <th>ProfileName</th>\n",
       "      <th>HelpfulnessNumerator</th>\n",
       "      <th>HelpfulnessDenominator</th>\n",
       "      <th>Score</th>\n",
       "      <th>Time</th>\n",
       "      <th>Summary</th>\n",
       "      <th>Text</th>\n",
       "    </tr>\n",
       "  </thead>\n",
       "  <tbody>\n",
       "    <tr>\n",
       "      <th>8934</th>\n",
       "      <td>8935</td>\n",
       "      <td>B0007A0AP8</td>\n",
       "      <td>A74SHV5ZD3RLT</td>\n",
       "      <td>R. Ellis \"Bobby\"</td>\n",
       "      <td>15</td>\n",
       "      <td>15</td>\n",
       "      <td>1</td>\n",
       "      <td>1303862400</td>\n",
       "      <td>The price is right</td>\n",
       "      <td>We have a little Maltese that we spoil to no e...</td>\n",
       "    </tr>\n",
       "    <tr>\n",
       "      <th>175816</th>\n",
       "      <td>175817</td>\n",
       "      <td>B0014DUUFC</td>\n",
       "      <td>A74SHV5ZD3RLT</td>\n",
       "      <td>R. Ellis \"Bobby\"</td>\n",
       "      <td>15</td>\n",
       "      <td>15</td>\n",
       "      <td>1</td>\n",
       "      <td>1303862400</td>\n",
       "      <td>The price is right</td>\n",
       "      <td>We have a little Maltese that we spoil to no e...</td>\n",
       "    </tr>\n",
       "    <tr>\n",
       "      <th>534266</th>\n",
       "      <td>534267</td>\n",
       "      <td>B0007A0AOY</td>\n",
       "      <td>A74SHV5ZD3RLT</td>\n",
       "      <td>R. Ellis \"Bobby\"</td>\n",
       "      <td>15</td>\n",
       "      <td>15</td>\n",
       "      <td>1</td>\n",
       "      <td>1303862400</td>\n",
       "      <td>The price is right</td>\n",
       "      <td>We have a little Maltese that we spoil to no e...</td>\n",
       "    </tr>\n",
       "    <tr>\n",
       "      <th>545769</th>\n",
       "      <td>545770</td>\n",
       "      <td>B001E5E1C8</td>\n",
       "      <td>A74SHV5ZD3RLT</td>\n",
       "      <td>R. Ellis \"Bobby\"</td>\n",
       "      <td>15</td>\n",
       "      <td>15</td>\n",
       "      <td>1</td>\n",
       "      <td>1303862400</td>\n",
       "      <td>The price is right</td>\n",
       "      <td>We have a little Maltese that we spoil to no e...</td>\n",
       "    </tr>\n",
       "  </tbody>\n",
       "</table>\n",
       "</div>"
      ],
      "text/plain": [
       "            Id   ProductId         UserId       ProfileName  \\\n",
       "8934      8935  B0007A0AP8  A74SHV5ZD3RLT  R. Ellis \"Bobby\"   \n",
       "175816  175817  B0014DUUFC  A74SHV5ZD3RLT  R. Ellis \"Bobby\"   \n",
       "534266  534267  B0007A0AOY  A74SHV5ZD3RLT  R. Ellis \"Bobby\"   \n",
       "545769  545770  B001E5E1C8  A74SHV5ZD3RLT  R. Ellis \"Bobby\"   \n",
       "\n",
       "        HelpfulnessNumerator  HelpfulnessDenominator  Score        Time  \\\n",
       "8934                      15                      15      1  1303862400   \n",
       "175816                    15                      15      1  1303862400   \n",
       "534266                    15                      15      1  1303862400   \n",
       "545769                    15                      15      1  1303862400   \n",
       "\n",
       "                   Summary                                               Text  \n",
       "8934    The price is right  We have a little Maltese that we spoil to no e...  \n",
       "175816  The price is right  We have a little Maltese that we spoil to no e...  \n",
       "534266  The price is right  We have a little Maltese that we spoil to no e...  \n",
       "545769  The price is right  We have a little Maltese that we spoil to no e...  "
      ]
     },
     "execution_count": 69,
     "metadata": {},
     "output_type": "execute_result"
    }
   ],
   "source": [
    "df[(df['ProfileName'] == 'R. Ellis \"Bobby\"') & (df['Summary'] == 'The price is right')]"
   ]
  },
  {
   "cell_type": "markdown",
   "id": "1b3037b1",
   "metadata": {},
   "source": [
    "### Eliminating Duplicate features"
   ]
  },
  {
   "cell_type": "code",
   "execution_count": 70,
   "id": "ea3c859f",
   "metadata": {},
   "outputs": [
    {
     "data": {
      "text/plain": [
       "(393606, 10)"
      ]
     },
     "execution_count": 70,
     "metadata": {},
     "output_type": "execute_result"
    }
   ],
   "source": [
    "data = df.drop_duplicates(subset = {\"UserId\" , \"Text\"})\n",
    "data.shape"
   ]
  },
  {
   "cell_type": "code",
   "execution_count": 71,
   "id": "a17f7a05",
   "metadata": {},
   "outputs": [
    {
     "data": {
      "text/html": [
       "<div>\n",
       "<style scoped>\n",
       "    .dataframe tbody tr th:only-of-type {\n",
       "        vertical-align: middle;\n",
       "    }\n",
       "\n",
       "    .dataframe tbody tr th {\n",
       "        vertical-align: top;\n",
       "    }\n",
       "\n",
       "    .dataframe thead th {\n",
       "        text-align: right;\n",
       "    }\n",
       "</style>\n",
       "<table border=\"1\" class=\"dataframe\">\n",
       "  <thead>\n",
       "    <tr style=\"text-align: right;\">\n",
       "      <th></th>\n",
       "      <th>Id</th>\n",
       "      <th>ProductId</th>\n",
       "      <th>UserId</th>\n",
       "      <th>ProfileName</th>\n",
       "      <th>HelpfulnessNumerator</th>\n",
       "      <th>HelpfulnessDenominator</th>\n",
       "      <th>Score</th>\n",
       "      <th>Time</th>\n",
       "      <th>Summary</th>\n",
       "      <th>Text</th>\n",
       "    </tr>\n",
       "  </thead>\n",
       "  <tbody>\n",
       "    <tr>\n",
       "      <th>44736</th>\n",
       "      <td>44737</td>\n",
       "      <td>B001EQ55RW</td>\n",
       "      <td>A2V0I904FH7ABY</td>\n",
       "      <td>Ram</td>\n",
       "      <td>3</td>\n",
       "      <td>2</td>\n",
       "      <td>1</td>\n",
       "      <td>1212883200</td>\n",
       "      <td>Pure cocoa taste with crunchy almonds inside</td>\n",
       "      <td>It was almost a 'love at first bite' - the per...</td>\n",
       "    </tr>\n",
       "    <tr>\n",
       "      <th>64421</th>\n",
       "      <td>64422</td>\n",
       "      <td>B000MIDROQ</td>\n",
       "      <td>A161DK06JJMCYF</td>\n",
       "      <td>J. E. Stephens \"Jeanne\"</td>\n",
       "      <td>3</td>\n",
       "      <td>1</td>\n",
       "      <td>1</td>\n",
       "      <td>1224892800</td>\n",
       "      <td>Bought This for My Son at College</td>\n",
       "      <td>My son loves spaghetti so I didn't hesitate or...</td>\n",
       "    </tr>\n",
       "  </tbody>\n",
       "</table>\n",
       "</div>"
      ],
      "text/plain": [
       "          Id   ProductId          UserId              ProfileName  \\\n",
       "44736  44737  B001EQ55RW  A2V0I904FH7ABY                      Ram   \n",
       "64421  64422  B000MIDROQ  A161DK06JJMCYF  J. E. Stephens \"Jeanne\"   \n",
       "\n",
       "       HelpfulnessNumerator  HelpfulnessDenominator  Score        Time  \\\n",
       "44736                     3                       2      1  1212883200   \n",
       "64421                     3                       1      1  1224892800   \n",
       "\n",
       "                                            Summary  \\\n",
       "44736  Pure cocoa taste with crunchy almonds inside   \n",
       "64421             Bought This for My Son at College   \n",
       "\n",
       "                                                    Text  \n",
       "44736  It was almost a 'love at first bite' - the per...  \n",
       "64421  My son loves spaghetti so I didn't hesitate or...  "
      ]
     },
     "execution_count": 71,
     "metadata": {},
     "output_type": "execute_result"
    }
   ],
   "source": [
    "data[data['HelpfulnessNumerator']>data['HelpfulnessDenominator']]"
   ]
  },
  {
   "cell_type": "code",
   "execution_count": 72,
   "id": "f6ce37e8",
   "metadata": {},
   "outputs": [
    {
     "data": {
      "text/plain": [
       "(393604, 10)"
      ]
     },
     "execution_count": 72,
     "metadata": {},
     "output_type": "execute_result"
    }
   ],
   "source": [
    "data=data[data.HelpfulnessNumerator<=data.HelpfulnessDenominator]\n",
    "data.shape"
   ]
  },
  {
   "cell_type": "code",
   "execution_count": 73,
   "id": "22742e76",
   "metadata": {},
   "outputs": [
    {
     "data": {
      "text/plain": [
       "1    336528\n",
       "0     57076\n",
       "Name: Score, dtype: int64"
      ]
     },
     "execution_count": 73,
     "metadata": {},
     "output_type": "execute_result"
    }
   ],
   "source": [
    "data['Score'].value_counts() "
   ]
  },
  {
   "cell_type": "code",
   "execution_count": 74,
   "id": "9c43b46c",
   "metadata": {},
   "outputs": [
    {
     "data": {
      "text/plain": [
       "array(['I have bought several of the Vitality canned dog food products and have found them all to be of good quality. The product looks more like a stew than a processed meat and it smells better. My Labrador is finicky and she appreciates this product better than  most.',\n",
       "       'Product arrived labeled as Jumbo Salted Peanuts...the peanuts were actually small sized unsalted. Not sure if this was an error or if the vendor intended to represent the product as \"Jumbo\".',\n",
       "       'This is a confection that has been around a few centuries.  It is a light, pillowy citrus gelatin with nuts - in this case Filberts. And it is cut into tiny squares and then liberally coated with powdered sugar.  And it is a tiny mouthful of heaven.  Not too chewy, and very flavorful.  I highly recommend this yummy treat.  If you are familiar with the story of C.S. Lewis\\' \"The Lion, The Witch, and The Wardrobe\" - this is the treat that seduces Edmund into selling out his Brother and Sisters to the Witch.',\n",
       "       ...,\n",
       "       'These stars are small, so you can give 10-15 of those in one training session.  I tried to train our dog with \"Ceaser dog treats\",  it just made our puppy hyper.  If you compare the ingredients, you will know why.  Little stars has just basic food ingredients without any preservatives and food coloring.  Sweet potato flavor also did not make my hand smell like dog food.',\n",
       "       'These are the BEST treats for training and rewarding your dog for being good while grooming.  Lower in calories and loved by all the doggies.  Sweet potatoes seem to be their favorite Wet Noses treat!',\n",
       "       'I am very satisfied ,product is as advertised, I use it on cereal, with raw vinegar, and as a general sweetner.'],\n",
       "      dtype=object)"
      ]
     },
     "execution_count": 74,
     "metadata": {},
     "output_type": "execute_result"
    }
   ],
   "source": [
    "data['Text'].values"
   ]
  },
  {
   "cell_type": "markdown",
   "id": "ef75ef8c",
   "metadata": {},
   "source": [
    "### Pruning the data"
   ]
  },
  {
   "cell_type": "code",
   "execution_count": 75,
   "id": "95bb6836",
   "metadata": {},
   "outputs": [
    {
     "name": "stdout",
     "output_type": "stream",
     "text": [
      "I don't know if it's the cactus or the tequila or just the unique combination of ingredients, but the flavour of this hot sauce makes it one of a kind!  We picked up a bottle once on a trip we were on and brought it back home with us and were totally blown away!  When we realized that we simply couldn't find it anywhere in our city we were bummed.<br /><br />Now, because of the magic of the internet, we have a case of the sauce and are ecstatic because of it.<br /><br />If you love hot sauce..I mean really love hot sauce, but don't want a sauce that tastelessly burns your throat, grab a bottle of Tequila Picante Gourmet de Inclan.  Just realize that once you taste it, you will never want to use any other sauce.<br /><br />Thank you for the personal, incredible service! \n",
      "\n",
      "Twizzlers, Strawberry my childhood favorite candy, made in Lancaster Pennsylvania by Y & S Candies, Inc. one of the oldest confectionery Firms in the United States, now a Subsidiary of the Hershey Company, the Company was established in 1845 as Young and Smylie, they also make Apple Licorice Twists, Green Color and Blue Raspberry Licorice Twists, I like them all<br /><br />I keep it in a dry cool place because is not recommended it to put it in the fridge. According to the Guinness Book of Records, the longest Licorice Twist ever made measured 1.200 Feet (370 M) and weighted 100 Pounds (45 Kg) and was made by Y & S Candies, Inc. This Record-Breaking Twist became a Guinness World Record on July 19, 1998. This Product is Kosher! Thank You \n",
      "\n",
      "I bought these for my husband who is currently overseas. He loves these, and apparently his staff likes them also.<br />There are generous amounts of Twizzlers in each 16-ounce bag, and this was well worth the price. <a href=\"http://www.amazon.com/gp/product/B001GVISJM\">Twizzlers, Strawberry, 16-Ounce Bags (Pack of 6)</a> \n",
      "\n",
      "I have lived out of the US for over 7 yrs now, and I so miss my Twizzlers!!  When I go back to visit or someone visits me, I always stock up.  All I can say is YUM!<br />Sell these in Mexico and you will have a faithful buyer, more often than I'm able to buy them right now. \n",
      "\n",
      "Product received is as advertised.<br /><br /><a href=\"http://www.amazon.com/gp/product/B001GVISJM\">Twizzlers, Strawberry, 16-Ounce Bags (Pack of 6)</a> \n",
      "\n"
     ]
    }
   ],
   "source": [
    "i = 0\n",
    "for words in data['Text'].values:\n",
    "    if(len(re.findall('<.*?>', words))):\n",
    "        print(words,\"\\n\")\n",
    "        i += 1\n",
    "    if i == 5:\n",
    "        break"
   ]
  },
  {
   "cell_type": "code",
   "execution_count": 76,
   "id": "31aaf62b",
   "metadata": {},
   "outputs": [
    {
     "name": "stdout",
     "output_type": "stream",
     "text": [
      "{'has', \"weren't\", 'or', 'were', 'down', 'are', 'should', 'very', 'few', 'we', 'because', 'll', 'have', 'itself', 'won', 'mustn', \"shan't\", 'but', 'these', 'into', 'over', \"mightn't\", \"couldn't\", 'is', 'me', 'this', 'couldn', 'all', 'about', 'ours', 'her', 'their', 'until', \"didn't\", 'am', 'himself', \"shouldn't\", 'above', 'further', \"aren't\", 'same', 'doing', 'hers', 'both', 'yourself', 'had', 'don', \"won't\", \"doesn't\", 'o', 'you', \"it's\", 'after', 'as', 'haven', 'was', 'a', 'below', 'no', \"wasn't\", 'doesn', \"you're\", 'myself', 't', 'hasn', 'he', 'when', 'each', 'here', 'once', \"you'll\", \"wouldn't\", 'y', \"you've\", 'your', 'and', 'ain', 'own', 'will', 'herself', 'them', 'the', \"needn't\", 's', 'theirs', 'other', 'his', 'what', \"that'll\", 'nor', 'being', 'at', 'it', 'those', 'does', 'shouldn', 'in', 'while', 'off', 'up', 'whom', 'there', 'so', 're', 'isn', \"mustn't\", 'aren', 'my', \"isn't\", 'they', 'with', 'then', 'didn', 'mightn', 'only', 'an', 'during', 'yours', 'how', 'did', \"hadn't\", 'yourselves', 'of', 'i', 'that', 'having', 'who', 'wouldn', 'out', 'can', 'shan', 'weren', 'before', 'just', 'where', 'ourselves', 'him', 'than', 've', 'through', 'our', 'on', 'hadn', 'do', 'again', 'why', \"she's\", 'd', 'she', 'needn', 'from', 'between', 'if', 'not', 'such', 'some', \"hasn't\", 'ma', 'more', \"should've\", 'by', 'its', 'under', 'for', 'themselves', \"don't\", 'against', \"haven't\", 'm', 'too', 'been', 'which', 'now', 'wasn', \"you'd\", 'any', 'be', 'to', 'most'}\n"
     ]
    }
   ],
   "source": [
    "stop_words = set(stopwords.words('english'))\n",
    "print(stop_words)"
   ]
  },
  {
   "cell_type": "code",
   "execution_count": 77,
   "id": "4ef1b9b6",
   "metadata": {},
   "outputs": [
    {
     "name": "stderr",
     "output_type": "stream",
     "text": [
      "[nltk_data] Downloading package stopwords to\n",
      "[nltk_data]     C:\\Users\\ANKUR\\AppData\\Roaming\\nltk_data...\n",
      "[nltk_data]   Package stopwords is already up-to-date!\n"
     ]
    },
    {
     "data": {
      "text/plain": [
       "True"
      ]
     },
     "execution_count": 77,
     "metadata": {},
     "output_type": "execute_result"
    }
   ],
   "source": [
    "import nltk\n",
    "nltk.download('stopwords')"
   ]
  },
  {
   "cell_type": "code",
   "execution_count": 78,
   "id": "cf359b6b",
   "metadata": {},
   "outputs": [],
   "source": [
    "#stemming\n",
    "stemming = nltk.stem.SnowballStemmer('english')"
   ]
  },
  {
   "cell_type": "code",
   "execution_count": 79,
   "id": "638d9eae",
   "metadata": {},
   "outputs": [
    {
     "name": "stdout",
     "output_type": "stream",
     "text": [
      "oper\n",
      "oper\n",
      "oper\n",
      "oper\n",
      "vaishnav\n"
     ]
    }
   ],
   "source": [
    "print(stemming.stem(\"operating\"))\n",
    "print(stemming.stem(\"operated\"))\n",
    "print(stemming.stem(\"operation\"))\n",
    "print(stemming.stem(\"operator\"))"
   ]
  },
  {
   "cell_type": "code",
   "execution_count": 80,
   "id": "188d3062",
   "metadata": {},
   "outputs": [],
   "source": [
    "def data_cleaning(series):\n",
    "    i = 0\n",
    "    string = \"\"\n",
    "    final_string = []    \n",
    "    list_of_sent = []    \n",
    "    cleanr = re.compile('<.*?>') \n",
    "    \n",
    "    for sent in series.values:\n",
    "        filtered_sent = []\n",
    "        sent = re.sub(cleanr, ' ', sent) \n",
    "        sent = re.sub('[^a-zA-Z0-9\\n]', ' ', sent) \n",
    "        sent = re.sub('\\s+',' ', sent) \n",
    "        sent = sent.lower() \n",
    "        for word in sent.split():\n",
    "            if word not in stop_words and len(word)>2:\n",
    "                word = stemming.stem(word) \n",
    "                filtered_sent.append(word)\n",
    "        list_of_sent.append(filtered_sent) \n",
    "        string = \" \".join(filtered_sent) \n",
    "        final_string.append(string) \n",
    "        i+=1\n",
    "    return final_string, list_of_sent"
   ]
  },
  {
   "cell_type": "code",
   "execution_count": 82,
   "id": "02416cbd",
   "metadata": {},
   "outputs": [
    {
     "name": "stdout",
     "output_type": "stream",
     "text": [
      "I have bought several of the Vitality canned dog food products and have found them all to be of good quality. The product looks more like a stew than a processed meat and it smells better. My Labrador is finicky and she appreciates this product better than  most. \n",
      "\n",
      "\n",
      "Product arrived labeled as Jumbo Salted Peanuts...the peanuts were actually small sized unsalted. Not sure if this was an error or if the vendor intended to represent the product as \"Jumbo\". \n",
      "\n",
      "\n",
      "This is a confection that has been around a few centuries.  It is a light, pillowy citrus gelatin with nuts - in this case Filberts. And it is cut into tiny squares and then liberally coated with powdered sugar.  And it is a tiny mouthful of heaven.  Not too chewy, and very flavorful.  I highly recommend this yummy treat.  If you are familiar with the story of C.S. Lewis' \"The Lion, The Witch, and The Wardrobe\" - this is the treat that seduces Edmund into selling out his Brother and Sisters to the Witch. \n",
      "\n",
      "\n",
      "If you are looking for the secret ingredient in Robitussin I believe I have found it.  I got this in addition to the Root Beer Extract I ordered (which was good) and made some cherry soda.  The flavor is very medicinal. \n",
      "\n",
      "\n",
      "Great taffy at a great price.  There was a wide assortment of yummy taffy.  Delivery was very quick.  If your a taffy lover, this is a deal. \n",
      "\n",
      "\n"
     ]
    }
   ],
   "source": [
    "for x in data['Text'].iloc[:5].values:\n",
    "    print(x,\"\\n\\n\")"
   ]
  },
  {
   "cell_type": "code",
   "execution_count": 84,
   "id": "b6a4629a",
   "metadata": {},
   "outputs": [
    {
     "name": "stdout",
     "output_type": "stream",
     "text": [
      "bought sever vital can dog food product found good qualiti product look like stew process meat smell better labrador finicki appreci product better \n",
      "\n",
      "\n",
      "product arriv label jumbo salt peanut peanut actual small size unsalt sure error vendor intend repres product jumbo \n",
      "\n",
      "\n",
      "confect around centuri light pillowi citrus gelatin nut case filbert cut tini squar liber coat powder sugar tini mouth heaven chewi flavor high recommend yummi treat familiar stori lewi lion witch wardrob treat seduc edmund sell brother sister witch \n",
      "\n",
      "\n",
      "look secret ingredi robitussin believ found got addit root beer extract order good made cherri soda flavor medicin \n",
      "\n",
      "\n",
      "great taffi great price wide assort yummi taffi deliveri quick taffi lover deal \n",
      "\n",
      "\n"
     ]
    }
   ],
   "source": [
    "final_string, list_of_sent = data_cleaning(data['Text'].iloc[:5])\n",
    "for x in final_string:\n",
    "    print(x,\"\\n\\n\")"
   ]
  },
  {
   "cell_type": "code",
   "execution_count": 86,
   "id": "d5c78d88",
   "metadata": {},
   "outputs": [
    {
     "name": "stdout",
     "output_type": "stream",
     "text": [
      "Time takes in seconds = 410.6850972175598\n"
     ]
    }
   ],
   "source": [
    "start = time.time()\n",
    "final_string, list_of_sent = data_cleaning(data['Text'])\n",
    "end = time.time()\n",
    "print(\"Time takes in seconds =\", end - start)"
   ]
  },
  {
   "cell_type": "code",
   "execution_count": 87,
   "id": "13d30205",
   "metadata": {},
   "outputs": [
    {
     "data": {
      "text/html": [
       "<div>\n",
       "<style scoped>\n",
       "    .dataframe tbody tr th:only-of-type {\n",
       "        vertical-align: middle;\n",
       "    }\n",
       "\n",
       "    .dataframe tbody tr th {\n",
       "        vertical-align: top;\n",
       "    }\n",
       "\n",
       "    .dataframe thead th {\n",
       "        text-align: right;\n",
       "    }\n",
       "</style>\n",
       "<table border=\"1\" class=\"dataframe\">\n",
       "  <thead>\n",
       "    <tr style=\"text-align: right;\">\n",
       "      <th></th>\n",
       "      <th>Id</th>\n",
       "      <th>ProductId</th>\n",
       "      <th>UserId</th>\n",
       "      <th>ProfileName</th>\n",
       "      <th>HelpfulnessNumerator</th>\n",
       "      <th>HelpfulnessDenominator</th>\n",
       "      <th>Score</th>\n",
       "      <th>Time</th>\n",
       "      <th>Summary</th>\n",
       "      <th>Text</th>\n",
       "      <th>CleanedText</th>\n",
       "    </tr>\n",
       "  </thead>\n",
       "  <tbody>\n",
       "    <tr>\n",
       "      <th>0</th>\n",
       "      <td>1</td>\n",
       "      <td>B001E4KFG0</td>\n",
       "      <td>A3SGXH7AUHU8GW</td>\n",
       "      <td>delmartian</td>\n",
       "      <td>1</td>\n",
       "      <td>1</td>\n",
       "      <td>1</td>\n",
       "      <td>1303862400</td>\n",
       "      <td>Good Quality Dog Food</td>\n",
       "      <td>I have bought several of the Vitality canned d...</td>\n",
       "      <td>bought sever vital can dog food product found ...</td>\n",
       "    </tr>\n",
       "    <tr>\n",
       "      <th>1</th>\n",
       "      <td>2</td>\n",
       "      <td>B00813GRG4</td>\n",
       "      <td>A1D87F6ZCVE5NK</td>\n",
       "      <td>dll pa</td>\n",
       "      <td>0</td>\n",
       "      <td>0</td>\n",
       "      <td>0</td>\n",
       "      <td>1346976000</td>\n",
       "      <td>Not as Advertised</td>\n",
       "      <td>Product arrived labeled as Jumbo Salted Peanut...</td>\n",
       "      <td>product arriv label jumbo salt peanut peanut a...</td>\n",
       "    </tr>\n",
       "    <tr>\n",
       "      <th>2</th>\n",
       "      <td>3</td>\n",
       "      <td>B000LQOCH0</td>\n",
       "      <td>ABXLMWJIXXAIN</td>\n",
       "      <td>Natalia Corres \"Natalia Corres\"</td>\n",
       "      <td>1</td>\n",
       "      <td>1</td>\n",
       "      <td>1</td>\n",
       "      <td>1219017600</td>\n",
       "      <td>\"Delight\" says it all</td>\n",
       "      <td>This is a confection that has been around a fe...</td>\n",
       "      <td>confect around centuri light pillowi citrus ge...</td>\n",
       "    </tr>\n",
       "    <tr>\n",
       "      <th>3</th>\n",
       "      <td>4</td>\n",
       "      <td>B000UA0QIQ</td>\n",
       "      <td>A395BORC6FGVXV</td>\n",
       "      <td>Karl</td>\n",
       "      <td>3</td>\n",
       "      <td>3</td>\n",
       "      <td>0</td>\n",
       "      <td>1307923200</td>\n",
       "      <td>Cough Medicine</td>\n",
       "      <td>If you are looking for the secret ingredient i...</td>\n",
       "      <td>look secret ingredi robitussin believ found go...</td>\n",
       "    </tr>\n",
       "    <tr>\n",
       "      <th>4</th>\n",
       "      <td>5</td>\n",
       "      <td>B006K2ZZ7K</td>\n",
       "      <td>A1UQRSCLF8GW1T</td>\n",
       "      <td>Michael D. Bigham \"M. Wassir\"</td>\n",
       "      <td>0</td>\n",
       "      <td>0</td>\n",
       "      <td>1</td>\n",
       "      <td>1350777600</td>\n",
       "      <td>Great taffy</td>\n",
       "      <td>Great taffy at a great price.  There was a wid...</td>\n",
       "      <td>great taffi great price wide assort yummi taff...</td>\n",
       "    </tr>\n",
       "    <tr>\n",
       "      <th>...</th>\n",
       "      <td>...</td>\n",
       "      <td>...</td>\n",
       "      <td>...</td>\n",
       "      <td>...</td>\n",
       "      <td>...</td>\n",
       "      <td>...</td>\n",
       "      <td>...</td>\n",
       "      <td>...</td>\n",
       "      <td>...</td>\n",
       "      <td>...</td>\n",
       "      <td>...</td>\n",
       "    </tr>\n",
       "    <tr>\n",
       "      <th>568449</th>\n",
       "      <td>568450</td>\n",
       "      <td>B001EO7N10</td>\n",
       "      <td>A28KG5XORO54AY</td>\n",
       "      <td>Lettie D. Carter</td>\n",
       "      <td>0</td>\n",
       "      <td>0</td>\n",
       "      <td>1</td>\n",
       "      <td>1299628800</td>\n",
       "      <td>Will not do without</td>\n",
       "      <td>Great for sesame chicken..this is a good if no...</td>\n",
       "      <td>great sesam chicken good better restur eaten h...</td>\n",
       "    </tr>\n",
       "    <tr>\n",
       "      <th>568450</th>\n",
       "      <td>568451</td>\n",
       "      <td>B003S1WTCU</td>\n",
       "      <td>A3I8AFVPEE8KI5</td>\n",
       "      <td>R. Sawyer</td>\n",
       "      <td>0</td>\n",
       "      <td>0</td>\n",
       "      <td>0</td>\n",
       "      <td>1331251200</td>\n",
       "      <td>disappointed</td>\n",
       "      <td>I'm disappointed with the flavor. The chocolat...</td>\n",
       "      <td>disappoint flavor chocol note especi weak milk...</td>\n",
       "    </tr>\n",
       "    <tr>\n",
       "      <th>568451</th>\n",
       "      <td>568452</td>\n",
       "      <td>B004I613EE</td>\n",
       "      <td>A121AA1GQV751Z</td>\n",
       "      <td>pksd \"pk_007\"</td>\n",
       "      <td>2</td>\n",
       "      <td>2</td>\n",
       "      <td>1</td>\n",
       "      <td>1329782400</td>\n",
       "      <td>Perfect for our maltipoo</td>\n",
       "      <td>These stars are small, so you can give 10-15 o...</td>\n",
       "      <td>star small give one train session tri train do...</td>\n",
       "    </tr>\n",
       "    <tr>\n",
       "      <th>568452</th>\n",
       "      <td>568453</td>\n",
       "      <td>B004I613EE</td>\n",
       "      <td>A3IBEVCTXKNOH</td>\n",
       "      <td>Kathy A. Welch \"katwel\"</td>\n",
       "      <td>1</td>\n",
       "      <td>1</td>\n",
       "      <td>1</td>\n",
       "      <td>1331596800</td>\n",
       "      <td>Favorite Training and reward treat</td>\n",
       "      <td>These are the BEST treats for training and rew...</td>\n",
       "      <td>best treat train reward dog good groom lower c...</td>\n",
       "    </tr>\n",
       "    <tr>\n",
       "      <th>568453</th>\n",
       "      <td>568454</td>\n",
       "      <td>B001LR2CU2</td>\n",
       "      <td>A3LGQPJCZVL9UC</td>\n",
       "      <td>srfell17</td>\n",
       "      <td>0</td>\n",
       "      <td>0</td>\n",
       "      <td>1</td>\n",
       "      <td>1338422400</td>\n",
       "      <td>Great Honey</td>\n",
       "      <td>I am very satisfied ,product is as advertised,...</td>\n",
       "      <td>satisfi product advertis use cereal raw vinega...</td>\n",
       "    </tr>\n",
       "  </tbody>\n",
       "</table>\n",
       "<p>393604 rows × 11 columns</p>\n",
       "</div>"
      ],
      "text/plain": [
       "            Id   ProductId          UserId                      ProfileName  \\\n",
       "0            1  B001E4KFG0  A3SGXH7AUHU8GW                       delmartian   \n",
       "1            2  B00813GRG4  A1D87F6ZCVE5NK                           dll pa   \n",
       "2            3  B000LQOCH0   ABXLMWJIXXAIN  Natalia Corres \"Natalia Corres\"   \n",
       "3            4  B000UA0QIQ  A395BORC6FGVXV                             Karl   \n",
       "4            5  B006K2ZZ7K  A1UQRSCLF8GW1T    Michael D. Bigham \"M. Wassir\"   \n",
       "...        ...         ...             ...                              ...   \n",
       "568449  568450  B001EO7N10  A28KG5XORO54AY                 Lettie D. Carter   \n",
       "568450  568451  B003S1WTCU  A3I8AFVPEE8KI5                        R. Sawyer   \n",
       "568451  568452  B004I613EE  A121AA1GQV751Z                    pksd \"pk_007\"   \n",
       "568452  568453  B004I613EE   A3IBEVCTXKNOH          Kathy A. Welch \"katwel\"   \n",
       "568453  568454  B001LR2CU2  A3LGQPJCZVL9UC                         srfell17   \n",
       "\n",
       "        HelpfulnessNumerator  HelpfulnessDenominator  Score        Time  \\\n",
       "0                          1                       1      1  1303862400   \n",
       "1                          0                       0      0  1346976000   \n",
       "2                          1                       1      1  1219017600   \n",
       "3                          3                       3      0  1307923200   \n",
       "4                          0                       0      1  1350777600   \n",
       "...                      ...                     ...    ...         ...   \n",
       "568449                     0                       0      1  1299628800   \n",
       "568450                     0                       0      0  1331251200   \n",
       "568451                     2                       2      1  1329782400   \n",
       "568452                     1                       1      1  1331596800   \n",
       "568453                     0                       0      1  1338422400   \n",
       "\n",
       "                                   Summary  \\\n",
       "0                    Good Quality Dog Food   \n",
       "1                        Not as Advertised   \n",
       "2                    \"Delight\" says it all   \n",
       "3                           Cough Medicine   \n",
       "4                              Great taffy   \n",
       "...                                    ...   \n",
       "568449                 Will not do without   \n",
       "568450                        disappointed   \n",
       "568451            Perfect for our maltipoo   \n",
       "568452  Favorite Training and reward treat   \n",
       "568453                         Great Honey   \n",
       "\n",
       "                                                     Text  \\\n",
       "0       I have bought several of the Vitality canned d...   \n",
       "1       Product arrived labeled as Jumbo Salted Peanut...   \n",
       "2       This is a confection that has been around a fe...   \n",
       "3       If you are looking for the secret ingredient i...   \n",
       "4       Great taffy at a great price.  There was a wid...   \n",
       "...                                                   ...   \n",
       "568449  Great for sesame chicken..this is a good if no...   \n",
       "568450  I'm disappointed with the flavor. The chocolat...   \n",
       "568451  These stars are small, so you can give 10-15 o...   \n",
       "568452  These are the BEST treats for training and rew...   \n",
       "568453  I am very satisfied ,product is as advertised,...   \n",
       "\n",
       "                                              CleanedText  \n",
       "0       bought sever vital can dog food product found ...  \n",
       "1       product arriv label jumbo salt peanut peanut a...  \n",
       "2       confect around centuri light pillowi citrus ge...  \n",
       "3       look secret ingredi robitussin believ found go...  \n",
       "4       great taffi great price wide assort yummi taff...  \n",
       "...                                                   ...  \n",
       "568449  great sesam chicken good better restur eaten h...  \n",
       "568450  disappoint flavor chocol note especi weak milk...  \n",
       "568451  star small give one train session tri train do...  \n",
       "568452  best treat train reward dog good groom lower c...  \n",
       "568453  satisfi product advertis use cereal raw vinega...  \n",
       "\n",
       "[393604 rows x 11 columns]"
      ]
     },
     "execution_count": 87,
     "metadata": {},
     "output_type": "execute_result"
    }
   ],
   "source": [
    "data['CleanedText'] = final_string\n",
    "data"
   ]
  },
  {
   "cell_type": "markdown",
   "id": "ee975e81",
   "metadata": {},
   "source": [
    "### Sample dataset"
   ]
  },
  {
   "cell_type": "code",
   "execution_count": 88,
   "id": "307b6e9f",
   "metadata": {},
   "outputs": [
    {
     "data": {
      "text/html": [
       "<div>\n",
       "<style scoped>\n",
       "    .dataframe tbody tr th:only-of-type {\n",
       "        vertical-align: middle;\n",
       "    }\n",
       "\n",
       "    .dataframe tbody tr th {\n",
       "        vertical-align: top;\n",
       "    }\n",
       "\n",
       "    .dataframe thead th {\n",
       "        text-align: right;\n",
       "    }\n",
       "</style>\n",
       "<table border=\"1\" class=\"dataframe\">\n",
       "  <thead>\n",
       "    <tr style=\"text-align: right;\">\n",
       "      <th></th>\n",
       "      <th>Score</th>\n",
       "      <th>Time</th>\n",
       "      <th>CleanedText</th>\n",
       "    </tr>\n",
       "  </thead>\n",
       "  <tbody>\n",
       "    <tr>\n",
       "      <th>0</th>\n",
       "      <td>1</td>\n",
       "      <td>1303862400</td>\n",
       "      <td>bought sever vital can dog food product found ...</td>\n",
       "    </tr>\n",
       "    <tr>\n",
       "      <th>2</th>\n",
       "      <td>1</td>\n",
       "      <td>1219017600</td>\n",
       "      <td>confect around centuri light pillowi citrus ge...</td>\n",
       "    </tr>\n",
       "    <tr>\n",
       "      <th>4</th>\n",
       "      <td>1</td>\n",
       "      <td>1350777600</td>\n",
       "      <td>great taffi great price wide assort yummi taff...</td>\n",
       "    </tr>\n",
       "    <tr>\n",
       "      <th>5</th>\n",
       "      <td>1</td>\n",
       "      <td>1342051200</td>\n",
       "      <td>got wild hair taffi order five pound bag taffi...</td>\n",
       "    </tr>\n",
       "    <tr>\n",
       "      <th>6</th>\n",
       "      <td>1</td>\n",
       "      <td>1340150400</td>\n",
       "      <td>saltwat taffi great flavor soft chewi candi in...</td>\n",
       "    </tr>\n",
       "  </tbody>\n",
       "</table>\n",
       "</div>"
      ],
      "text/plain": [
       "   Score        Time                                        CleanedText\n",
       "0      1  1303862400  bought sever vital can dog food product found ...\n",
       "2      1  1219017600  confect around centuri light pillowi citrus ge...\n",
       "4      1  1350777600  great taffi great price wide assort yummi taff...\n",
       "5      1  1342051200  got wild hair taffi order five pound bag taffi...\n",
       "6      1  1340150400  saltwat taffi great flavor soft chewi candi in..."
      ]
     },
     "execution_count": 88,
     "metadata": {},
     "output_type": "execute_result"
    }
   ],
   "source": [
    "negative = data[data['Score'] == 0][['Score', 'Time', 'CleanedText']]\n",
    "positive = data[data['Score'] == 1][['Score', 'Time', 'CleanedText']]\n",
    "data1 = pd.concat([negative.iloc[:5,:], positive.iloc[:5,:]], axis = 0, ignore_index = True)\n",
    "positive.head()"
   ]
  },
  {
   "cell_type": "markdown",
   "id": "43e859ff",
   "metadata": {},
   "source": [
    "### Sorting data based on time"
   ]
  },
  {
   "cell_type": "code",
   "execution_count": 89,
   "id": "e507baa9",
   "metadata": {},
   "outputs": [
    {
     "data": {
      "text/html": [
       "<div>\n",
       "<style scoped>\n",
       "    .dataframe tbody tr th:only-of-type {\n",
       "        vertical-align: middle;\n",
       "    }\n",
       "\n",
       "    .dataframe tbody tr th {\n",
       "        vertical-align: top;\n",
       "    }\n",
       "\n",
       "    .dataframe thead th {\n",
       "        text-align: right;\n",
       "    }\n",
       "</style>\n",
       "<table border=\"1\" class=\"dataframe\">\n",
       "  <thead>\n",
       "    <tr style=\"text-align: right;\">\n",
       "      <th></th>\n",
       "      <th>Score</th>\n",
       "      <th>Time</th>\n",
       "      <th>CleanedText</th>\n",
       "    </tr>\n",
       "  </thead>\n",
       "  <tbody>\n",
       "    <tr>\n",
       "      <th>150523</th>\n",
       "      <td>1</td>\n",
       "      <td>939340800</td>\n",
       "      <td>witti littl book make son laugh loud recit car...</td>\n",
       "    </tr>\n",
       "    <tr>\n",
       "      <th>150500</th>\n",
       "      <td>1</td>\n",
       "      <td>940809600</td>\n",
       "      <td>rememb see show air televis year ago child sis...</td>\n",
       "    </tr>\n",
       "    <tr>\n",
       "      <th>451855</th>\n",
       "      <td>1</td>\n",
       "      <td>944092800</td>\n",
       "      <td>beetlejuic well written movi everyth excel act...</td>\n",
       "    </tr>\n",
       "    <tr>\n",
       "      <th>230284</th>\n",
       "      <td>1</td>\n",
       "      <td>944438400</td>\n",
       "      <td>twist rumplestiskin captur film star michael k...</td>\n",
       "    </tr>\n",
       "    <tr>\n",
       "      <th>451854</th>\n",
       "      <td>1</td>\n",
       "      <td>946857600</td>\n",
       "      <td>beetlejuic excel funni movi keaton hilari wack...</td>\n",
       "    </tr>\n",
       "    <tr>\n",
       "      <th>...</th>\n",
       "      <td>...</td>\n",
       "      <td>...</td>\n",
       "      <td>...</td>\n",
       "    </tr>\n",
       "    <tr>\n",
       "      <th>467555</th>\n",
       "      <td>1</td>\n",
       "      <td>1351209600</td>\n",
       "      <td>use alessi decaffen caff expresso year sometim...</td>\n",
       "    </tr>\n",
       "    <tr>\n",
       "      <th>217005</th>\n",
       "      <td>0</td>\n",
       "      <td>1351209600</td>\n",
       "      <td>high expect seed disappoint half seed plant fa...</td>\n",
       "    </tr>\n",
       "    <tr>\n",
       "      <th>79281</th>\n",
       "      <td>1</td>\n",
       "      <td>1351209600</td>\n",
       "      <td>complaint product like would rate good subject...</td>\n",
       "    </tr>\n",
       "    <tr>\n",
       "      <th>414150</th>\n",
       "      <td>1</td>\n",
       "      <td>1351209600</td>\n",
       "      <td>hard find groceri buy case onlin one box make ...</td>\n",
       "    </tr>\n",
       "    <tr>\n",
       "      <th>510015</th>\n",
       "      <td>1</td>\n",
       "      <td>1351209600</td>\n",
       "      <td>came quick plenti delici cheaper store enjoy l...</td>\n",
       "    </tr>\n",
       "  </tbody>\n",
       "</table>\n",
       "<p>393604 rows × 3 columns</p>\n",
       "</div>"
      ],
      "text/plain": [
       "        Score        Time                                        CleanedText\n",
       "150523      1   939340800  witti littl book make son laugh loud recit car...\n",
       "150500      1   940809600  rememb see show air televis year ago child sis...\n",
       "451855      1   944092800  beetlejuic well written movi everyth excel act...\n",
       "230284      1   944438400  twist rumplestiskin captur film star michael k...\n",
       "451854      1   946857600  beetlejuic excel funni movi keaton hilari wack...\n",
       "...       ...         ...                                                ...\n",
       "467555      1  1351209600  use alessi decaffen caff expresso year sometim...\n",
       "217005      0  1351209600  high expect seed disappoint half seed plant fa...\n",
       "79281       1  1351209600  complaint product like would rate good subject...\n",
       "414150      1  1351209600  hard find groceri buy case onlin one box make ...\n",
       "510015      1  1351209600  came quick plenti delici cheaper store enjoy l...\n",
       "\n",
       "[393604 rows x 3 columns]"
      ]
     },
     "execution_count": 89,
     "metadata": {},
     "output_type": "execute_result"
    }
   ],
   "source": [
    "data1 = data[['Score', 'Time', 'CleanedText']].copy()\n",
    "data1.sort_values('Time', inplace = True)\n",
    "data1"
   ]
  },
  {
   "cell_type": "code",
   "execution_count": 90,
   "id": "8e13b2ef",
   "metadata": {},
   "outputs": [
    {
     "data": {
      "text/plain": [
       "1    336528\n",
       "0     57076\n",
       "Name: Score, dtype: int64"
      ]
     },
     "execution_count": 90,
     "metadata": {},
     "output_type": "execute_result"
    }
   ],
   "source": [
    "data1['Score'].value_counts()"
   ]
  },
  {
   "cell_type": "markdown",
   "id": "a06be23d",
   "metadata": {},
   "source": [
    "### Deleting the data variable to empty space"
   ]
  },
  {
   "cell_type": "code",
   "execution_count": 91,
   "id": "a86028d4",
   "metadata": {},
   "outputs": [],
   "source": [
    "del data"
   ]
  },
  {
   "cell_type": "code",
   "execution_count": 92,
   "id": "eb8bbf40",
   "metadata": {},
   "outputs": [
    {
     "data": {
      "text/html": [
       "<div>\n",
       "<style scoped>\n",
       "    .dataframe tbody tr th:only-of-type {\n",
       "        vertical-align: middle;\n",
       "    }\n",
       "\n",
       "    .dataframe tbody tr th {\n",
       "        vertical-align: top;\n",
       "    }\n",
       "\n",
       "    .dataframe thead th {\n",
       "        text-align: right;\n",
       "    }\n",
       "</style>\n",
       "<table border=\"1\" class=\"dataframe\">\n",
       "  <thead>\n",
       "    <tr style=\"text-align: right;\">\n",
       "      <th></th>\n",
       "      <th>Score</th>\n",
       "      <th>Time</th>\n",
       "      <th>CleanedText</th>\n",
       "    </tr>\n",
       "  </thead>\n",
       "  <tbody>\n",
       "    <tr>\n",
       "      <th>150523</th>\n",
       "      <td>1</td>\n",
       "      <td>939340800</td>\n",
       "      <td>witti littl book make son laugh loud recit car...</td>\n",
       "    </tr>\n",
       "    <tr>\n",
       "      <th>150500</th>\n",
       "      <td>1</td>\n",
       "      <td>940809600</td>\n",
       "      <td>rememb see show air televis year ago child sis...</td>\n",
       "    </tr>\n",
       "    <tr>\n",
       "      <th>451855</th>\n",
       "      <td>1</td>\n",
       "      <td>944092800</td>\n",
       "      <td>beetlejuic well written movi everyth excel act...</td>\n",
       "    </tr>\n",
       "    <tr>\n",
       "      <th>230284</th>\n",
       "      <td>1</td>\n",
       "      <td>944438400</td>\n",
       "      <td>twist rumplestiskin captur film star michael k...</td>\n",
       "    </tr>\n",
       "    <tr>\n",
       "      <th>451854</th>\n",
       "      <td>1</td>\n",
       "      <td>946857600</td>\n",
       "      <td>beetlejuic excel funni movi keaton hilari wack...</td>\n",
       "    </tr>\n",
       "    <tr>\n",
       "      <th>...</th>\n",
       "      <td>...</td>\n",
       "      <td>...</td>\n",
       "      <td>...</td>\n",
       "    </tr>\n",
       "    <tr>\n",
       "      <th>467555</th>\n",
       "      <td>1</td>\n",
       "      <td>1351209600</td>\n",
       "      <td>use alessi decaffen caff expresso year sometim...</td>\n",
       "    </tr>\n",
       "    <tr>\n",
       "      <th>217005</th>\n",
       "      <td>0</td>\n",
       "      <td>1351209600</td>\n",
       "      <td>high expect seed disappoint half seed plant fa...</td>\n",
       "    </tr>\n",
       "    <tr>\n",
       "      <th>79281</th>\n",
       "      <td>1</td>\n",
       "      <td>1351209600</td>\n",
       "      <td>complaint product like would rate good subject...</td>\n",
       "    </tr>\n",
       "    <tr>\n",
       "      <th>414150</th>\n",
       "      <td>1</td>\n",
       "      <td>1351209600</td>\n",
       "      <td>hard find groceri buy case onlin one box make ...</td>\n",
       "    </tr>\n",
       "    <tr>\n",
       "      <th>510015</th>\n",
       "      <td>1</td>\n",
       "      <td>1351209600</td>\n",
       "      <td>came quick plenti delici cheaper store enjoy l...</td>\n",
       "    </tr>\n",
       "  </tbody>\n",
       "</table>\n",
       "<p>393604 rows × 3 columns</p>\n",
       "</div>"
      ],
      "text/plain": [
       "        Score        Time                                        CleanedText\n",
       "150523      1   939340800  witti littl book make son laugh loud recit car...\n",
       "150500      1   940809600  rememb see show air televis year ago child sis...\n",
       "451855      1   944092800  beetlejuic well written movi everyth excel act...\n",
       "230284      1   944438400  twist rumplestiskin captur film star michael k...\n",
       "451854      1   946857600  beetlejuic excel funni movi keaton hilari wack...\n",
       "...       ...         ...                                                ...\n",
       "467555      1  1351209600  use alessi decaffen caff expresso year sometim...\n",
       "217005      0  1351209600  high expect seed disappoint half seed plant fa...\n",
       "79281       1  1351209600  complaint product like would rate good subject...\n",
       "414150      1  1351209600  hard find groceri buy case onlin one box make ...\n",
       "510015      1  1351209600  came quick plenti delici cheaper store enjoy l...\n",
       "\n",
       "[393604 rows x 3 columns]"
      ]
     },
     "execution_count": 92,
     "metadata": {},
     "output_type": "execute_result"
    }
   ],
   "source": [
    "data1"
   ]
  },
  {
   "cell_type": "markdown",
   "id": "03712ddb",
   "metadata": {},
   "source": [
    "### Seperating the target variable from the other features"
   ]
  },
  {
   "cell_type": "code",
   "execution_count": 93,
   "id": "b1d282b0",
   "metadata": {},
   "outputs": [],
   "source": [
    "X = data1['CleanedText']\n",
    "y = data1['Score']"
   ]
  },
  {
   "cell_type": "markdown",
   "id": "35f11146",
   "metadata": {},
   "source": [
    "### Splitting the training and testing data "
   ]
  },
  {
   "cell_type": "code",
   "execution_count": 94,
   "id": "582da0e1",
   "metadata": {},
   "outputs": [],
   "source": [
    "X_train_raw, X_test_raw, y_train, y_test = train_test_split(X[:8000], y[:8000], test_size = 0.3, shuffle = False )"
   ]
  },
  {
   "cell_type": "code",
   "execution_count": 95,
   "id": "360f84be",
   "metadata": {},
   "outputs": [
    {
     "data": {
      "text/plain": [
       "((5600,), (5600,), (2400,), (2400,))"
      ]
     },
     "execution_count": 95,
     "metadata": {},
     "output_type": "execute_result"
    }
   ],
   "source": [
    "X_train_raw.shape, y_train.shape, X_test_raw.shape, y_test.shape"
   ]
  },
  {
   "cell_type": "code",
   "execution_count": 96,
   "id": "26fcbb28",
   "metadata": {},
   "outputs": [
    {
     "data": {
      "text/plain": [
       "array(['witti littl book make son laugh loud recit car drive along alway sing refrain learn whale india droop rose love new word book introduc silli classic book will bet son still abl recit memori colleg',\n",
       "       'rememb see show air televis year ago child sister later bought day thirti someth use seri book amp song student teach preschool amp turn whole school purchas along book children amp tradit live',\n",
       "       'beetlejuic well written movi everyth excel act special effect delight chose view movi',\n",
       "       ...,\n",
       "       'look organ black tea replac tetley tea usual drink stash tea wish less expens feel worth',\n",
       "       'help recoveri time run keep nasti lactic acid away',\n",
       "       'review today correct navita natur great brand prefer cacao powder nib fresh factor use pound time awar howev process food bought three pound cacao powder slight differ tast assum maca would tast well differ noth someth would buy tast smokey deep complex take lot somewhat gag ad tbls smoothi realli tell load cacao powder also hydroscop instant potato much psyllium take minut hydrat underestim much water absorb take lot medicin benefit even sort anecdot evid famili given experienc lot clinic studi net concern liver failur issu harm see read literatur five star twofold trust brand packag great stand cupboard plastic liner light kept brown wrapper water air liner price foodi one know maca amount give enough fool around use might recip need tsp maca give depth pill usual overpr want see tast raw product well pill supplement also food'],\n",
       "      dtype=object)"
      ]
     },
     "execution_count": 96,
     "metadata": {},
     "output_type": "execute_result"
    }
   ],
   "source": [
    "X_train_raw.values"
   ]
  },
  {
   "cell_type": "code",
   "execution_count": 97,
   "id": "b01cd813",
   "metadata": {},
   "outputs": [
    {
     "data": {
      "text/plain": [
       "mate actual tea tea like beverag origin argentina uruguay primarili consum countri well paraguay southern brazil brew dri leav stemlet perenni yerba mate tree name deriv quichua word mati design gourd tradit serv averag 300 000 ton mate produc year consist similar green tea mate distinct full bittersweet flavor note alfalfa resembl tea milder 196 volatil chemic compound contain yerba mate 144 also contain tea know manifold health benefit among plant ingredi alkaloid xanthin theophyllin theobromin well vitamin sever vitamin numer miner south american guarani indian tradit use plant medicin purpos inter alia stimul central nervous system promot mental physic cardiovascular activ enhanc resist fatigu reduc fever mitig thirst hunger decreas blood pressur diuret laxat purgat sudorif antirheumat legend knowledg infus power first impart young guarani woman father mysteri shaman reward woman faith stay exhaust father tribe continu search arabl land recent year mate becom cultur phenomenon throughout larg part south america gain increas popular northern america europ well south america share mate contain straw bombilla symbol close friendship famili social context                                                                                                                                                                                                                                                                                                                                                                                                                                                                                                                                                                                                                                                                                                                                                                                                                       3\n",
       "warn tea packag henc weak tasteless compar british equival disappoint                                                                                                                                                                                                                                                                                                                                                                                                                                                                                                                                                                                                                                                                                                                                                                                                                                                                                                                                                                                                                                                                                                                                                                                                                                                                                                                                                                                                                                                                                                                                                                                                                                                                                                                                                                                                                                                                                                                                                                       2\n",
       "organ sucanat mani level regular white granul sugar sugar take bake tea drink new level pleasur hold sugar palm hand notic irregular crystal dark brown sugar color flavor reminisc brown sugar yet textur much natur crystal take longer melt tongu recent discov varieti natur sweeten perfect tea add sweet add caramel flavor tea use milk puriti flavor feel better support organ farm keep bodi healthi one one replac refin white brown sugar sucanat made 100 certifi organ sugar cane sugar cane green cut mean field burn leav top cane plant left field sugar minim process sugar cane harvest press squeez cane juic juic clarifi filter evapor help remov excess water syrup crystal sugar molass flavor produc also vitamin miner trace element sugar cane plant one teaspoon sucanat contain 10mg potassium 6mg calcium still use white sugar tri sucanat might surpris ad flavor good puriti find flavor superior refin white sugar sugar add touch caramel flavor bake look even deeper flavor chocol recip tri muscovado sugar rich flavor match regular brown sugar would find groceri store muscovado sucanat take bake next level rebecca review                                                                                                                                                                                                                                                                                                                                                                                                                                                                                                                                                                                                                                                                                                                                                                                                                                                                       2\n",
       "fanci feast varieti pack contain twenti four can alway ensur good suppli cat food hand also wast time stack individu can alway box one gourmet varieti pack fish seafood base hand contain eight can ground ocean whitefish tuna salmon cod well sole shrimp also alway hand fanci feast slice varieti pack contain eight can beef chicken heart liver turkey addit also box fanci feast grill varieti pack hand time contain eight can grill beef turkey chicken savori sauc cat mamushka love                                                                                                                                                                                                                                                                                                                                                                                                                                                                                                                                                                                                                                                                                                                                                                                                                                                                                                                                                                                                                                                                                                                                                                                                                                                                                                                                                                                                                                                                                                                                             2\n",
       "qualiti product bio familia swedish compani develop bircherm uuml esli product popular success made name muesli famous world need high fiber protein snack option diet absolut good product wrong best excel tast qualiti pack five come good valu sometim diet requir eat frequent conscious case need snack hand get hungri order keep metabol high day long case find good balanc option could hard love pack alway one home anoth pack offic tri eat five time day case healthi snack hand wherev get hungri prioriti sinc check product guess probabl person care eat either interest lose weight get better shape healthier keep good shape share experi weight loss game stay shape game success person experi weight loss base strategi boost metabol stress eat frequent eat need time choos wise go eat supplement diet yet simpl work loss 200 lbs shrink waist abl keep good shape sinc everi singl aspect life improv sinc keep mind good diet part equat also need plan help keep track monitor condit base person experi recommend tool may want consid establish strategi boost metabol loos weight even import keep weight ultrametabol simpl plan automat weight loss mark hyman practic realist plan weigh loss ab diet anoth practic readabl insight inspir book also includ exercis plan bodi fat monitor scale help monitor progress assur weight loos fat fat lost increas metabol muscl water bone mass decreas metabol heart rate monitor wrist watch excel tool help monitor control heart rate order keep burn fat state increas metabol heart monitor train complet idiot primer use heart rate monitor health improv weight control want star focus diet first two may worth consid exercis want start right last threee recommend option improv result year old help tool mention went fro size size pant also obtain substanti benefit includ weight control cardiovascular improv lower blood pressur improv muscular skelet strength flexibl also myriad mental psycholog benefit deriv best shape life    2\n",
       "                                                                                                                                                                                                                                                                                                                                                                                                                                                                                                                                                                                                                                                                                                                                                                                                                                                                                                                                                                                                                                                                                                                                                                                                                                                                                                                                                                                                                                                                                                                                                                                                                                                                                                                                                                                                                                                                                                                                                                                                                                           ..\n",
       "made quit star famili chanukah parti past season gave year old german uncl case said remind childhood day munich although like way doggi tast sure nice see pleasant man smile sight wiener gift love give thought holiday gift give honest say first time given wiener gift lol                                                                                                                                                                                                                                                                                                                                                                                                                                                                                                                                                                                                                                                                                                                                                                                                                                                                                                                                                                                                                                                                                                                                                                                                                                                                                                                                                                                                                                                                                                                                                                                                                                                                                                                                                            1\n",
       "plain flavor soy milk great tri particular ad nutrient cereal morn delici stand alon cold drink great shake                                                                                                                                                                                                                                                                                                                                                                                                                                                                                                                                                                                                                                                                                                                                                                                                                                                                                                                                                                                                                                                                                                                                                                                                                                                                                                                                                                                                                                                                                                                                                                                                                                                                                                                                                                                                                                                                                                                                 1\n",
       "recipi basket happi littl problem item deliv later day due ship partner immedi resolv without interact complet satisfact winsconsinmad wonder custom servic know problem control occur item ship deal compani care big headach compani left satisfi would high recommend wisconsinmad                                                                                                                                                                                                                                                                                                                                                                                                                                                                                                                                                                                                                                                                                                                                                                                                                                                                                                                                                                                                                                                                                                                                                                                                                                                                                                                                                                                                                                                                                                                                                                                                                                                                                                                                                       1\n",
       "soy milk scrumptious varieti extra nutrient ad great nutriti high calcium cholesterol product great price buy case                                                                                                                                                                                                                                                                                                                                                                                                                                                                                                                                                                                                                                                                                                                                                                                                                                                                                                                                                                                                                                                                                                                                                                                                                                                                                                                                                                                                                                                                                                                                                                                                                                                                                                                                                                                                                                                                                                                          1\n",
       "review today correct navita natur great brand prefer cacao powder nib fresh factor use pound time awar howev process food bought three pound cacao powder slight differ tast assum maca would tast well differ noth someth would buy tast smokey deep complex take lot somewhat gag ad tbls smoothi realli tell load cacao powder also hydroscop instant potato much psyllium take minut hydrat underestim much water absorb take lot medicin benefit even sort anecdot evid famili given experienc lot clinic studi net concern liver failur issu harm see read literatur five star twofold trust brand packag great stand cupboard plastic liner light kept brown wrapper water air liner price foodi one know maca amount give enough fool around use might recip need tsp maca give depth pill usual overpr want see tast raw product well pill supplement also food                                                                                                                                                                                                                                                                                                                                                                                                                                                                                                                                                                                                                                                                                                                                                                                                                                                                                                                                                                                                                                                                                                                                                                    1\n",
       "Name: CleanedText, Length: 5582, dtype: int64"
      ]
     },
     "execution_count": 97,
     "metadata": {},
     "output_type": "execute_result"
    }
   ],
   "source": [
    "X_train_raw.value_counts()"
   ]
  },
  {
   "cell_type": "markdown",
   "id": "180881bd",
   "metadata": {},
   "source": [
    "### Text preprocessing with Count BoW technique on training data"
   ]
  },
  {
   "cell_type": "code",
   "execution_count": 98,
   "id": "c4817546",
   "metadata": {},
   "outputs": [],
   "source": [
    "bow = CountVectorizer()\n",
    "X_train = bow.fit_transform(X_train_raw.values)"
   ]
  },
  {
   "cell_type": "code",
   "execution_count": 99,
   "id": "fc600c61",
   "metadata": {},
   "outputs": [
    {
     "data": {
      "text/plain": [
       "(5600, 12496)"
      ]
     },
     "execution_count": 99,
     "metadata": {},
     "output_type": "execute_result"
    }
   ],
   "source": [
    "X_train.shape"
   ]
  },
  {
   "cell_type": "markdown",
   "id": "436d09f9",
   "metadata": {},
   "source": [
    "### Text preprocessing with Count BoW technique on testing data"
   ]
  },
  {
   "cell_type": "code",
   "execution_count": 100,
   "id": "03f4de12",
   "metadata": {},
   "outputs": [],
   "source": [
    "X_test = bow.transform(X_test_raw.values)"
   ]
  },
  {
   "cell_type": "code",
   "execution_count": 101,
   "id": "073812ab",
   "metadata": {},
   "outputs": [
    {
     "data": {
      "text/plain": [
       "(2400, 12496)"
      ]
     },
     "execution_count": 101,
     "metadata": {},
     "output_type": "execute_result"
    }
   ],
   "source": [
    "X_test.shape"
   ]
  },
  {
   "cell_type": "markdown",
   "id": "35c1a7d6",
   "metadata": {},
   "source": [
    "### Standardization by removing mean  and scaling by variance 1 "
   ]
  },
  {
   "cell_type": "code",
   "execution_count": 102,
   "id": "9a5cec38",
   "metadata": {},
   "outputs": [],
   "source": [
    "s = StandardScaler(with_mean=False) \n",
    "X_train= s.fit_transform(X_train)\n",
    "X_test = s.transform(X_test)"
   ]
  },
  {
   "cell_type": "markdown",
   "id": "f3fc6c03",
   "metadata": {},
   "source": [
    "### Finding Test Accuracy"
   ]
  },
  {
   "cell_type": "code",
   "execution_count": 103,
   "id": "5455fc3c",
   "metadata": {},
   "outputs": [
    {
     "name": "stdout",
     "output_type": "stream",
     "text": [
      "Accuracy = 89.375\n"
     ]
    }
   ],
   "source": [
    "clf = SVC(C= 10, gamma = 0.5 )\n",
    "clf.fit(X_train , y_train)\n",
    "y_pred = clf.predict(X_test)\n",
    "acc = accuracy_score(y_test, y_pred) * 100\n",
    "print(\"Accuracy =\", acc)"
   ]
  },
  {
   "cell_type": "code",
   "execution_count": 104,
   "id": "d78d0412",
   "metadata": {},
   "outputs": [
    {
     "data": {
      "text/plain": [
       "array([[   0,  255],\n",
       "       [   0, 2145]], dtype=int64)"
      ]
     },
     "execution_count": 104,
     "metadata": {},
     "output_type": "execute_result"
    }
   ],
   "source": [
    "confusion_matrix(y_test, y_pred)"
   ]
  },
  {
   "cell_type": "code",
   "execution_count": 105,
   "id": "31a13ef0",
   "metadata": {},
   "outputs": [
    {
     "name": "stderr",
     "output_type": "stream",
     "text": [
      "C:\\Users\\ANKUR\\anaconda3\\lib\\site-packages\\sklearn\\metrics\\_classification.py:1248: UndefinedMetricWarning: Precision and F-score are ill-defined and being set to 0.0 in labels with no predicted samples. Use `zero_division` parameter to control this behavior.\n",
      "  _warn_prf(average, modifier, msg_start, len(result))\n",
      "C:\\Users\\ANKUR\\anaconda3\\lib\\site-packages\\sklearn\\metrics\\_classification.py:1248: UndefinedMetricWarning: Precision and F-score are ill-defined and being set to 0.0 in labels with no predicted samples. Use `zero_division` parameter to control this behavior.\n",
      "  _warn_prf(average, modifier, msg_start, len(result))\n",
      "C:\\Users\\ANKUR\\anaconda3\\lib\\site-packages\\sklearn\\metrics\\_classification.py:1248: UndefinedMetricWarning: Precision and F-score are ill-defined and being set to 0.0 in labels with no predicted samples. Use `zero_division` parameter to control this behavior.\n",
      "  _warn_prf(average, modifier, msg_start, len(result))\n"
     ]
    },
    {
     "data": {
      "text/plain": [
       "'              precision    recall  f1-score   support\\n\\n           0       0.00      0.00      0.00       255\\n           1       0.89      1.00      0.94      2145\\n\\n    accuracy                           0.89      2400\\n   macro avg       0.45      0.50      0.47      2400\\nweighted avg       0.80      0.89      0.84      2400\\n'"
      ]
     },
     "execution_count": 105,
     "metadata": {},
     "output_type": "execute_result"
    }
   ],
   "source": [
    "classification_report(y_test,y_pred)"
   ]
  },
  {
   "cell_type": "markdown",
   "id": "e49f0ce4",
   "metadata": {},
   "source": [
    "### Finding best hyperparameters"
   ]
  },
  {
   "cell_type": "code",
   "execution_count": 106,
   "id": "2325aaab",
   "metadata": {},
   "outputs": [
    {
     "name": "stdout",
     "output_type": "stream",
     "text": [
      "Time required =281.64959621429443s\n"
     ]
    }
   ],
   "source": [
    "start = time.time()\n",
    "clf = SVC()\n",
    "param_grid = [{'kernel':['rbf'],'gamma':[50,5,10,0.5],\n",
    "             'C':[10,0.1,0.001] }]\n",
    "gsv = GridSearchCV(clf,param_grid,cv=5,n_jobs=-1)\n",
    "gsv.fit(X_train,y_train)\n",
    "end = time.time()\n",
    "print(\"Time required =\"+str(end-start)+\"s\")"
   ]
  },
  {
   "cell_type": "code",
   "execution_count": 107,
   "id": "e4326661",
   "metadata": {},
   "outputs": [
    {
     "name": "stdout",
     "output_type": "stream",
     "text": [
      "Best HyperParameter:  {'C': 10, 'gamma': 50, 'kernel': 'rbf'}\n",
      "Best Accuracy: 89.11%\n"
     ]
    }
   ],
   "source": [
    "print(\"Best HyperParameter: \",gsv.best_params_)\n",
    "print(\"Best Accuracy: %.2f%%\"%(gsv.best_score_*100))"
   ]
  },
  {
   "cell_type": "code",
   "execution_count": null,
   "id": "2c61298d",
   "metadata": {},
   "outputs": [],
   "source": []
  }
 ],
 "metadata": {
  "kernelspec": {
   "display_name": "Python 3 (ipykernel)",
   "language": "python",
   "name": "python3"
  },
  "language_info": {
   "codemirror_mode": {
    "name": "ipython",
    "version": 3
   },
   "file_extension": ".py",
   "mimetype": "text/x-python",
   "name": "python",
   "nbconvert_exporter": "python",
   "pygments_lexer": "ipython3",
   "version": "3.9.7"
  }
 },
 "nbformat": 4,
 "nbformat_minor": 5
}
